{
 "cells": [
  {
   "cell_type": "markdown",
   "metadata": {},
   "source": [
    "# Web Scraping - Lab\n",
    "\n",
    "## Introduction\n",
    "\n",
    "Now that you've seen a more extensive example of developing a web scraping script, it's time to further practice and formalize that knowledge by writing functions to parse specific pieces of information from the web page and then synthesizing these into a larger loop that will iterate over successive web pages in order to build a complete dataset.\n",
    "\n",
    "## Objectives\n",
    "\n",
    "You will be able to:\n",
    "\n",
    "* Write functions to parse specific information from a web page\n",
    "* Iterate over successive web pages in order to create a dataset"
   ]
  },
  {
   "cell_type": "markdown",
   "metadata": {},
   "source": [
    "## Lab Overview\n",
    "\n",
    "This lab will build upon the previous lesson. In the end, you'll look to write a script that will iterate over all of the pages for the demo site and extract the title, price, star rating and availability of each book listed. Building up to that, you'll formalize the concepts from the lesson by writing functions that will extract a list of each of these features for each web page. You'll then combine these functions into the full script which will look something like this:  \n",
    "\n",
    "```python\n",
    "df = pd.DataFrame()\n",
    "for i in range(2,51):\n",
    "    url = \"http://books.toscrape.com/catalogue/page-{}.html\".format(i)\n",
    "    soup = BeautifulSoup(html_page.content, 'html.parser')\n",
    "    new_titles = retrieve_titles(soup)\n",
    "    new_star_ratings = retrieve_ratings(soup)\n",
    "    new_prices = retrieve_prices(soup)\n",
    "    new_avails = retrieve_avails(soup)\n",
    "    ...\n",
    " ```"
   ]
  },
  {
   "cell_type": "markdown",
   "metadata": {},
   "source": [
    "## Retrieving Titles\n",
    "\n",
    "To start, write a function that extracts the titles of the books on a given page. The input for the function should be the `soup` for the HTML of the page."
   ]
  },
  {
   "cell_type": "code",
   "execution_count": 5,
   "metadata": {},
   "outputs": [],
   "source": [
    "def retrieve_titles(soup):\n",
    "    return [link.get('title') for link in soup.find_all('a') if link.get('title') is not None]\n"
   ]
  },
  {
   "cell_type": "markdown",
   "metadata": {},
   "source": [
    "## Retrieve Ratings\n",
    "\n",
    "Next, write a similar function to retrieve the star ratings on a given page. Again, the function should take in the `soup` from the given html page and return a list of the star-ratings for the books. These star ratings should be formatted as integers."
   ]
  },
  {
   "cell_type": "code",
   "execution_count": 1,
   "metadata": {},
   "outputs": [],
   "source": [
    "stars = {'One':1, 'Two':2, 'Three':3, 'Four':4,'Five':5}\n",
    "def retrieve_ratings(soup):\n",
    "    return [stars[rating.get('class')[1]] for rating in soup.findAll('p', {'class':'star-rating'})]"
   ]
  },
  {
   "cell_type": "markdown",
   "metadata": {},
   "source": [
    "## Retrieve Prices\n",
    "\n",
    "Now write a function to retrieve the prices on a given page. The function should take in the `soup` from the given page and return a list of prices formatted as floats."
   ]
  },
  {
   "cell_type": "code",
   "execution_count": 2,
   "metadata": {},
   "outputs": [],
   "source": [
    "def retrieve_prices(soup):\n",
    "    return [float(price.text[1:]) for price in soup.findAll('p', {'class':'price_color'})]"
   ]
  },
  {
   "cell_type": "markdown",
   "metadata": {},
   "source": [
    "## Retrieve Availability\n",
    "\n",
    "Write a function to retrieve whether each book is available or not. The function should take in the `soup` from a given html page and return a list of the availability for each book."
   ]
  },
  {
   "cell_type": "code",
   "execution_count": 3,
   "metadata": {},
   "outputs": [],
   "source": [
    "def retrieve_availabilities(soup):\n",
    "    return ['In stock' in availability.text for availability in soup.findAll('p', {'class':'availability'})]"
   ]
  },
  {
   "cell_type": "markdown",
   "metadata": {},
   "source": [
    "## Create a Script to Retrieve All the Books From All 50 Pages\n",
    "\n",
    "Finally, write a script to retrieve all of the information from all 50 pages of the books.toscrape.com website. "
   ]
  },
  {
   "cell_type": "code",
   "execution_count": 6,
   "metadata": {},
   "outputs": [
    {
     "name": "stdout",
     "output_type": "stream",
     "text": [
      "http://books.toscrape.com/catalogue/page-2.html\n",
      "http://books.toscrape.com/catalogue/page-3.html\n",
      "http://books.toscrape.com/catalogue/page-4.html\n",
      "http://books.toscrape.com/catalogue/page-5.html\n",
      "http://books.toscrape.com/catalogue/page-6.html\n",
      "http://books.toscrape.com/catalogue/page-7.html\n",
      "http://books.toscrape.com/catalogue/page-8.html\n",
      "http://books.toscrape.com/catalogue/page-9.html\n",
      "http://books.toscrape.com/catalogue/page-10.html\n",
      "http://books.toscrape.com/catalogue/page-11.html\n",
      "http://books.toscrape.com/catalogue/page-12.html\n",
      "http://books.toscrape.com/catalogue/page-13.html\n",
      "http://books.toscrape.com/catalogue/page-14.html\n",
      "http://books.toscrape.com/catalogue/page-15.html\n",
      "http://books.toscrape.com/catalogue/page-16.html\n",
      "http://books.toscrape.com/catalogue/page-17.html\n",
      "http://books.toscrape.com/catalogue/page-18.html\n",
      "http://books.toscrape.com/catalogue/page-19.html\n",
      "http://books.toscrape.com/catalogue/page-20.html\n",
      "http://books.toscrape.com/catalogue/page-21.html\n",
      "http://books.toscrape.com/catalogue/page-22.html\n",
      "http://books.toscrape.com/catalogue/page-23.html\n",
      "http://books.toscrape.com/catalogue/page-24.html\n",
      "http://books.toscrape.com/catalogue/page-25.html\n",
      "http://books.toscrape.com/catalogue/page-26.html\n",
      "http://books.toscrape.com/catalogue/page-27.html\n",
      "http://books.toscrape.com/catalogue/page-28.html\n",
      "http://books.toscrape.com/catalogue/page-29.html\n",
      "http://books.toscrape.com/catalogue/page-30.html\n",
      "http://books.toscrape.com/catalogue/page-31.html\n",
      "http://books.toscrape.com/catalogue/page-32.html\n",
      "http://books.toscrape.com/catalogue/page-33.html\n",
      "http://books.toscrape.com/catalogue/page-34.html\n",
      "http://books.toscrape.com/catalogue/page-35.html\n",
      "http://books.toscrape.com/catalogue/page-36.html\n",
      "http://books.toscrape.com/catalogue/page-37.html\n",
      "http://books.toscrape.com/catalogue/page-38.html\n",
      "http://books.toscrape.com/catalogue/page-39.html\n",
      "http://books.toscrape.com/catalogue/page-40.html\n",
      "http://books.toscrape.com/catalogue/page-41.html\n",
      "http://books.toscrape.com/catalogue/page-42.html\n",
      "http://books.toscrape.com/catalogue/page-43.html\n",
      "http://books.toscrape.com/catalogue/page-44.html\n",
      "http://books.toscrape.com/catalogue/page-45.html\n",
      "http://books.toscrape.com/catalogue/page-46.html\n",
      "http://books.toscrape.com/catalogue/page-47.html\n",
      "http://books.toscrape.com/catalogue/page-48.html\n",
      "http://books.toscrape.com/catalogue/page-49.html\n",
      "http://books.toscrape.com/catalogue/page-50.html\n"
     ]
    },
    {
     "ename": "AttributeError",
     "evalue": "'NoneType' object has no attribute 'a'",
     "output_type": "error",
     "traceback": [
      "\u001b[0;31m\u001b[0m",
      "\u001b[0;31mAttributeError\u001b[0mTraceback (most recent call last)",
      "\u001b[0;32m<ipython-input-6-2fc87cefa698>\u001b[0m in \u001b[0;36m<module>\u001b[0;34m()\u001b[0m\n\u001b[1;32m     17\u001b[0m     \u001b[0mbooks\u001b[0m\u001b[0;34m[\u001b[0m\u001b[0;34m'avails'\u001b[0m\u001b[0;34m]\u001b[0m\u001b[0;34m.\u001b[0m\u001b[0mextend\u001b[0m\u001b[0;34m(\u001b[0m\u001b[0mretrieve_availabilities\u001b[0m\u001b[0;34m(\u001b[0m\u001b[0msoup\u001b[0m\u001b[0;34m)\u001b[0m\u001b[0;34m)\u001b[0m\u001b[0;34m\u001b[0m\u001b[0m\n\u001b[1;32m     18\u001b[0m     \u001b[0;32mtry\u001b[0m\u001b[0;34m:\u001b[0m\u001b[0;34m\u001b[0m\u001b[0m\n\u001b[0;32m---> 19\u001b[0;31m         \u001b[0murl\u001b[0m \u001b[0;34m=\u001b[0m \u001b[0;34m\"http://books.toscrape.com/catalogue/\"\u001b[0m \u001b[0;34m+\u001b[0m \u001b[0msoup\u001b[0m\u001b[0;34m.\u001b[0m\u001b[0mfind\u001b[0m\u001b[0;34m(\u001b[0m\u001b[0;34m'li'\u001b[0m\u001b[0;34m,\u001b[0m \u001b[0;34m{\u001b[0m\u001b[0;34m'class'\u001b[0m\u001b[0;34m:\u001b[0m\u001b[0;34m'next'\u001b[0m\u001b[0;34m}\u001b[0m\u001b[0;34m)\u001b[0m\u001b[0;34m.\u001b[0m\u001b[0ma\u001b[0m\u001b[0;34m[\u001b[0m\u001b[0;34m'href'\u001b[0m\u001b[0;34m]\u001b[0m\u001b[0;34m\u001b[0m\u001b[0m\n\u001b[0m\u001b[1;32m     20\u001b[0m     \u001b[0;32mexcept\u001b[0m \u001b[0mIndexError\u001b[0m\u001b[0;34m:\u001b[0m\u001b[0;34m\u001b[0m\u001b[0m\n\u001b[1;32m     21\u001b[0m         \u001b[0;32mpass\u001b[0m\u001b[0;34m\u001b[0m\u001b[0m\n",
      "\u001b[0;31mAttributeError\u001b[0m: 'NoneType' object has no attribute 'a'"
     ]
    }
   ],
   "source": [
    "#Your code here\n",
    "import urllib.request\n",
    "import pandas as pd\n",
    "import collections\n",
    "from bs4 import BeautifulSoup\n",
    "\n",
    "columns=['titles', 'ratings', 'prices', 'avails']\n",
    "#df = pd.DataFrame()\n",
    "books = collections.defaultdict(list)\n",
    "url = \"http://books.toscrape.com/catalogue/page-1.html\"\n",
    "for _ in range(50):\n",
    "    html = urllib.request.urlopen(url).read()\n",
    "    soup = BeautifulSoup(html, 'html.parser')\n",
    "    books['titles'].extend(retrieve_titles(soup))\n",
    "    books['ratings'].extend(retrieve_ratings(soup))\n",
    "    books['prices'].extend(retrieve_prices(soup))\n",
    "    books['avails'].extend(retrieve_availabilities(soup))\n",
    "    try:\n",
    "        url = \"http://books.toscrape.com/catalogue/\" + soup.find('li', {'class':'next'}).a['href']\n",
    "    except IndexError:\n",
    "        pass\n",
    "    print(url)\n",
    "df = pd.DataFrame(books, columns=columns)\n",
    "df[~df['avails']]"
   ]
  },
  {
   "cell_type": "markdown",
   "metadata": {},
   "source": [
    "## Level-Up: Write a new version of the script you just wrote. \n",
    "\n",
    "If you used url hacking to generate each successive page url, instead write a function that retrieves the link from the `\"next\"` button at the bottom of the page. Conversely, if you already used this approach above, use URL-hacking (arguably the easier of the two methods in this case)."
   ]
  },
  {
   "cell_type": "code",
   "execution_count": null,
   "metadata": {},
   "outputs": [],
   "source": [
    "#Your code here\n",
    "for i in range(2,51):\n",
    "    url = \"http://books.toscrape.com/catalogue/page-{}.html\".format(i)\n",
    "    soup = BeautifulSoup(html_page.content, 'html.parser')"
   ]
  },
  {
   "cell_type": "markdown",
   "metadata": {},
   "source": [
    "## Summary\n",
    "\n",
    "Well done! You just completed your first full web scraping project! You're ready to start harnessing the power of the web!"
   ]
  },
  {
   "cell_type": "code",
   "execution_count": null,
   "metadata": {},
   "outputs": [],
   "source": []
  }
 ],
 "metadata": {
  "kernelspec": {
   "display_name": "Python 3",
   "language": "python",
   "name": "python3"
  },
  "language_info": {
   "codemirror_mode": {
    "name": "ipython",
    "version": 3
   },
   "file_extension": ".py",
   "mimetype": "text/x-python",
   "name": "python",
   "nbconvert_exporter": "python",
   "pygments_lexer": "ipython3",
   "version": "3.6.6"
  }
 },
 "nbformat": 4,
 "nbformat_minor": 2
}
